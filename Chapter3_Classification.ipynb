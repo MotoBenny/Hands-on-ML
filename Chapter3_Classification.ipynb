{
  "nbformat": 4,
  "nbformat_minor": 0,
  "metadata": {
    "colab": {
      "provenance": [],
      "authorship_tag": "ABX9TyP2S/OqQIGJO8FdE1vHzuFe",
      "include_colab_link": true
    },
    "kernelspec": {
      "name": "python3",
      "display_name": "Python 3"
    },
    "language_info": {
      "name": "python"
    }
  },
  "cells": [
    {
      "cell_type": "markdown",
      "metadata": {
        "id": "view-in-github",
        "colab_type": "text"
      },
      "source": [
        "<a href=\"https://colab.research.google.com/github/MotoBenny/Hands-on-ML/blob/main/Chapter3_Classification.ipynb\" target=\"_parent\"><img src=\"https://colab.research.google.com/assets/colab-badge.svg\" alt=\"Open In Colab\"/></a>"
      ]
    },
    {
      "cell_type": "markdown",
      "source": [
        "# Chapter 3: Classification\n",
        "\n",
        "Working with the MNIST dataset to classify handwritten digits. "
      ],
      "metadata": {
        "id": "OBEaA9OEMjFi"
      }
    },
    {
      "cell_type": "code",
      "execution_count": 1,
      "metadata": {
        "id": "fOagKjGxMfCF"
      },
      "outputs": [],
      "source": [
        "from sklearn.datasets import fetch_openml\n",
        "\n",
        "mnist = fetch_openml('mnist_784', as_frame=False) # using the fetch openml function bundled with sklearn to download this very common dataset.\n",
        "# as this dataset contains images, we dont want it to import as a pandas dataframe. hence as_frame=False\n",
        "# instead we receive the data as NumPy arrays\n",
        "\n",
        "# other functions of this tool include:\n",
        "# load() to load small toy datasets bundled with sklearn\n",
        "# make() to generate datasets, useful for testing. "
      ]
    },
    {
      "cell_type": "code",
      "source": [
        "X, y = mnist.data, mnist.target\n",
        "X"
      ],
      "metadata": {
        "colab": {
          "base_uri": "https://localhost:8080/"
        },
        "id": "9V8uDj-FNSBL",
        "outputId": "e3512e9b-e6a1-4ceb-bf3b-1682e0ca32d3"
      },
      "execution_count": 2,
      "outputs": [
        {
          "output_type": "execute_result",
          "data": {
            "text/plain": [
              "array([[0., 0., 0., ..., 0., 0., 0.],\n",
              "       [0., 0., 0., ..., 0., 0., 0.],\n",
              "       [0., 0., 0., ..., 0., 0., 0.],\n",
              "       ...,\n",
              "       [0., 0., 0., ..., 0., 0., 0.],\n",
              "       [0., 0., 0., ..., 0., 0., 0.],\n",
              "       [0., 0., 0., ..., 0., 0., 0.]])"
            ]
          },
          "metadata": {},
          "execution_count": 2
        }
      ]
    },
    {
      "cell_type": "code",
      "source": [
        "X.shape"
      ],
      "metadata": {
        "colab": {
          "base_uri": "https://localhost:8080/"
        },
        "id": "cVz0jhwlOcZs",
        "outputId": "6c395d37-b4fa-4851-8adc-80ea98e86931"
      },
      "execution_count": 3,
      "outputs": [
        {
          "output_type": "execute_result",
          "data": {
            "text/plain": [
              "(70000, 784)"
            ]
          },
          "metadata": {},
          "execution_count": 3
        }
      ]
    },
    {
      "cell_type": "code",
      "source": [
        "# lets look at a single image from our dataset.\n",
        "\n",
        "import matplotlib.pyplot as plt\n",
        "\n",
        "def plot_digit(image_data):\n",
        "  image = image_data.reshape(28,28) # reshaping to a 28x28 array so we can use imshow to display it. \n",
        "  plt.imshow(image, cmap=\"binary\") # cmap gets us a greyscale color map where 0 is white and 255 is black\n",
        "  plt.axis(\"off\")\n",
        "\n",
        "some_digit = X[0] # change this number here from 0 to 69999 to see a specific instance feature\n",
        "plot_digit(some_digit)\n",
        "plt.show()"
      ],
      "metadata": {
        "colab": {
          "base_uri": "https://localhost:8080/",
          "height": 248
        },
        "id": "wZsw_GmERfgg",
        "outputId": "243af29c-b670-4902-f187-2c13ab0cf986"
      },
      "execution_count": 8,
      "outputs": [
        {
          "output_type": "display_data",
          "data": {
            "text/plain": [
              "<Figure size 432x288 with 1 Axes>"
            ],
            "image/png": "[encoded data removed]"
          },
          "metadata": {
            "needs_background": "light"
          }
        }
      ]
    }
  ]
}