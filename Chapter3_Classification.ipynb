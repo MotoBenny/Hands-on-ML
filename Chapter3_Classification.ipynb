{
  "nbformat": 4,
  "nbformat_minor": 0,
  "metadata": {
    "colab": {
      "provenance": [],
      "authorship_tag": "ABX9TyOgEW+9M9zQivetRB124uiR",
      "include_colab_link": true
    },
    "kernelspec": {
      "name": "python3",
      "display_name": "Python 3"
    },
    "language_info": {
      "name": "python"
    }
  },
  "cells": [
    {
      "cell_type": "markdown",
      "metadata": {
        "id": "view-in-github",
        "colab_type": "text"
      },
      "source": [
        "<a href=\"https://colab.research.google.com/github/MotoBenny/Hands-on-ML/blob/main/Chapter3_Classification.ipynb\" target=\"_parent\"><img src=\"https://colab.research.google.com/assets/colab-badge.svg\" alt=\"Open In Colab\"/></a>"
      ]
    },
    {
      "cell_type": "markdown",
      "source": [
        "# Chapter 3: Classification\n",
        "\n",
        "Working with the MNIST dataset to classify handwritten digits. "
      ],
      "metadata": {
        "id": "OBEaA9OEMjFi"
      }
    },
    {
      "cell_type": "code",
      "execution_count": 1,
      "metadata": {
        "id": "fOagKjGxMfCF"
      },
      "outputs": [],
      "source": [
        "from sklearn.datasets import fetch_openml\n",
        "\n",
        "mnist = fetch_openml('mnist_784', as_frame=False) # using the fetch openml function bundled with sklearn to download this very common dataset.\n",
        "# as this dataset contains images, we dont want it to import as a pandas dataframe. hence as_frame=False\n",
        "# instead we receive the data as NumPy arrays\n",
        "\n",
        "# other functions of this tool include:\n",
        "# load() to load small toy datasets bundled with sklearn\n",
        "# make() to generate datasets, useful for testing. "
      ]
    },
    {
      "cell_type": "code",
      "source": [
        "X, y = mnist.data, mnist.target\n",
        "X"
      ],
      "metadata": {
        "colab": {
          "base_uri": "https://localhost:8080/"
        },
        "id": "9V8uDj-FNSBL",
        "outputId": "e3512e9b-e6a1-4ceb-bf3b-1682e0ca32d3"
      },
      "execution_count": 2,
      "outputs": [
        {
          "output_type": "execute_result",
          "data": {
            "text/plain": [
              "array([[0., 0., 0., ..., 0., 0., 0.],\n",
              "       [0., 0., 0., ..., 0., 0., 0.],\n",
              "       [0., 0., 0., ..., 0., 0., 0.],\n",
              "       ...,\n",
              "       [0., 0., 0., ..., 0., 0., 0.],\n",
              "       [0., 0., 0., ..., 0., 0., 0.],\n",
              "       [0., 0., 0., ..., 0., 0., 0.]])"
            ]
          },
          "metadata": {},
          "execution_count": 2
        }
      ]
    },
    {
      "cell_type": "code",
      "source": [
        "X.shape"
      ],
      "metadata": {
        "colab": {
          "base_uri": "https://localhost:8080/"
        },
        "id": "cVz0jhwlOcZs",
        "outputId": "6c395d37-b4fa-4851-8adc-80ea98e86931"
      },
      "execution_count": 3,
      "outputs": [
        {
          "output_type": "execute_result",
          "data": {
            "text/plain": [
              "(70000, 784)"
            ]
          },
          "metadata": {},
          "execution_count": 3
        }
      ]
    },
    {
      "cell_type": "code",
      "source": [
        "# lets look at a single image from our dataset.\n",
        "\n",
        "import matplotlib.pyplot as plt\n",
        "\n",
        "def plot_digit(image_data):\n",
        "  image = image_data.reshape(28,28) # reshaping to a 28x28 array so we can use imshow to display it. \n",
        "  plt.imshow(image, cmap=\"binary\") # cmap gets us a greyscale color map where 0 is white and 255 is black\n",
        "  plt.axis(\"off\")\n",
        "\n",
        "some_digit = X[0] # change this number here from 0 to 69999 to see a specific instance feature\n",
        "plot_digit(some_digit)\n",
        "plt.show()"
      ],
      "metadata": {
        "colab": {
          "base_uri": "https://localhost:8080/",
          "height": 248
        },
        "id": "wZsw_GmERfgg",
        "outputId": "243af29c-b670-4902-f187-2c13ab0cf986"
      },
      "execution_count": 8,
      "outputs": [
        {
          "output_type": "display_data",
          "data": {
            "text/plain": [
              "<Figure size 432x288 with 1 Axes>"
            ],
            "image/png": "[encoded data removed]"
          },
          "metadata": {
            "needs_background": "light"
          }
        }
      ]
    },
    {
      "cell_type": "code",
      "source": [
        "y[0] # our X value for each feature instance is the image itself, or rather its vector.\n",
        "# where our y value is the label within the dataset, here we can see that this first digit is a 5"
      ],
      "metadata": {
        "colab": {
          "base_uri": "https://localhost:8080/",
          "height": 35
        },
        "id": "dcLqEZLsS8an",
        "outputId": "17fd5f27-73c2-4d40-f008-c30f7211c2ac"
      },
      "execution_count": 9,
      "outputs": [
        {
          "output_type": "execute_result",
          "data": {
            "text/plain": [
              "'5'"
            ],
            "application/vnd.google.colaboratory.intrinsic+json": {
              "type": "string"
            }
          },
          "metadata": {},
          "execution_count": 9
        }
      ]
    },
    {
      "cell_type": "markdown",
      "source": [
        "# Test set\n",
        "\n",
        "This dataset is already split for us, with a test set comprised of the last 10K images."
      ],
      "metadata": {
        "id": "aN5OxvFrTTA6"
      }
    },
    {
      "cell_type": "code",
      "source": [
        "X_train, X_test, y_train, y_test = X[:60000], X[60000:], y[:60000], y[60000:]"
      ],
      "metadata": {
        "id": "jUN2bVKyTKM_"
      },
      "execution_count": 10,
      "outputs": []
    },
    {
      "cell_type": "markdown",
      "source": [
        "# Identifying a single digit, Binary Classifier.\n"
      ],
      "metadata": {
        "id": "6DZ1vGdHT1RV"
      }
    },
    {
      "cell_type": "code",
      "source": [
        "y_train_5= (y_train == '5') # return True for all 5s False for any other digit. \n",
        "y_test_5 = (y_test == '5')"
      ],
      "metadata": {
        "id": "Ry7eYA9fT8HI"
      },
      "execution_count": 13,
      "outputs": []
    },
    {
      "cell_type": "markdown",
      "source": [
        "## Picking a classifier and training it.\n",
        "\n",
        "Starting with a stochastic gradient decent with the built in sklearn class.\n",
        "These classifiers are greate with very large datasets. "
      ],
      "metadata": {
        "id": "d3Zw6CmeUMvg"
      }
    },
    {
      "cell_type": "code",
      "source": [
        "from sklearn.linear_model import SGDClassifier \n",
        "\n",
        "sgd_clf = SGDClassifier(random_state=42)\n",
        "sgd_clf.fit(X_train,y_train_5)"
      ],
      "metadata": {
        "colab": {
          "base_uri": "https://localhost:8080/"
        },
        "id": "ESam98meUEVr",
        "outputId": "fc621e57-1214-479f-e38f-4b4388c9d8b3"
      },
      "execution_count": 14,
      "outputs": [
        {
          "output_type": "execute_result",
          "data": {
            "text/plain": [
              "SGDClassifier(random_state=42)"
            ]
          },
          "metadata": {},
          "execution_count": 14
        }
      ]
    },
    {
      "cell_type": "code",
      "source": [
        "# now we can use the model to detect the number 5\n",
        "sgd_clf.predict([some_digit])"
      ],
      "metadata": {
        "colab": {
          "base_uri": "https://localhost:8080/"
        },
        "id": "M7wIIBPXWqEg",
        "outputId": "9831cb19-bfb4-4128-d603-e006eebf2d88"
      },
      "execution_count": 16,
      "outputs": [
        {
          "output_type": "execute_result",
          "data": {
            "text/plain": [
              "array([ True])"
            ]
          },
          "metadata": {},
          "execution_count": 16
        }
      ]
    },
    {
      "cell_type": "markdown",
      "source": [
        "# Evaluating the classifyier.\n",
        "\n",
        "This is generally significantly harder than evaluating a regressor model. \n",
        "lets try cross-validation"
      ],
      "metadata": {
        "id": "xRqTdgE3XRPu"
      }
    },
    {
      "cell_type": "code",
      "source": [
        "from sklearn.model_selection import cross_val_score\n",
        "\n",
        "cross_val_score(sgd_clf, X_train, y_train_5, cv=3, scoring=\"accuracy\")"
      ],
      "metadata": {
        "colab": {
          "base_uri": "https://localhost:8080/"
        },
        "id": "bdW3y5kkXJ6N",
        "outputId": "2f6a63ba-8e68-4da8-f23b-d1dd53b4f2b1"
      },
      "execution_count": 17,
      "outputs": [
        {
          "output_type": "execute_result",
          "data": {
            "text/plain": [
              "array([0.95035, 0.96035, 0.9604 ])"
            ]
          },
          "metadata": {},
          "execution_count": 17
        }
      ]
    },
    {
      "cell_type": "code",
      "source": [
        "# how about the dummyclassifier?\n",
        "\n",
        "from sklearn.dummy import DummyClassifier\n",
        "\n",
        "dummy_clf = DummyClassifier()\n",
        "dummy_clf.fit(X_train, y_train_5)\n",
        "print(any(dummy_clf.predict(X_train)))"
      ],
      "metadata": {
        "colab": {
          "base_uri": "https://localhost:8080/"
        },
        "id": "kpsBSXm7Zc6z",
        "outputId": "7a465f94-ad47-4dba-9c12-700ed6a695d1"
      },
      "execution_count": 18,
      "outputs": [
        {
          "output_type": "stream",
          "name": "stdout",
          "text": [
            "False\n"
          ]
        }
      ]
    },
    {
      "cell_type": "code",
      "source": [
        "cross_val_score(dummy_clf, X_train, y_train_5, cv=3, scoring=\"accuracy\")"
      ],
      "metadata": {
        "colab": {
          "base_uri": "https://localhost:8080/"
        },
        "id": "Ch72_SZhZssV",
        "outputId": "e1c5eac3-7519-44eb-fb23-c4e8ceba5171"
      },
      "execution_count": 19,
      "outputs": [
        {
          "output_type": "execute_result",
          "data": {
            "text/plain": [
              "array([0.90965, 0.90965, 0.90965])"
            ]
          },
          "metadata": {},
          "execution_count": 19
        }
      ]
    },
    {
      "cell_type": "markdown",
      "source": [
        "Great! we are getting over 90% accuracy. But its only because only 10% of the images are actually 5s, so our model will always guess that an image is not a 5, and its right about 90% of the time. This wont do."
      ],
      "metadata": {
        "id": "bddE_yJ5Z2gJ"
      }
    }
  ]
}