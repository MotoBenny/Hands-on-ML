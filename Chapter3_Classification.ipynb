{
  "nbformat": 4,
  "nbformat_minor": 0,
  "metadata": {
    "colab": {
      "provenance": [],
      "authorship_tag": "ABX9TyPDRyGe6s0KU7ujcwiXHPMt",
      "include_colab_link": true
    },
    "kernelspec": {
      "name": "python3",
      "display_name": "Python 3"
    },
    "language_info": {
      "name": "python"
    }
  },
  "cells": [
    {
      "cell_type": "markdown",
      "metadata": {
        "id": "view-in-github",
        "colab_type": "text"
      },
      "source": [
        "<a href=\"https://colab.research.google.com/github/MotoBenny/Hands-on-ML/blob/main/Chapter3_Classification.ipynb\" target=\"_parent\"><img src=\"https://colab.research.google.com/assets/colab-badge.svg\" alt=\"Open In Colab\"/></a>"
      ]
    },
    {
      "cell_type": "markdown",
      "source": [
        "# Chapter 3: Classification\n",
        "\n",
        "Working with the MNIST dataset to classify handwritten digits. "
      ],
      "metadata": {
        "id": "OBEaA9OEMjFi"
      }
    },
    {
      "cell_type": "code",
      "execution_count": 1,
      "metadata": {
        "id": "fOagKjGxMfCF"
      },
      "outputs": [],
      "source": [
        "from sklearn.datasets import fetch_openml\n",
        "\n",
        "mnist = fetch_openml('mnist_784', as_frame=False) # using the fetch openml function bundled with sklearn to download this very common dataset.\n",
        "# as this dataset contains images, we dont want it to import as a pandas dataframe. hence as_frame=False\n",
        "# instead we receive the data as NumPy arrays\n",
        "\n",
        "# other functions of this tool include:\n",
        "# load() to load small toy datasets bundled with sklearn\n",
        "# make() to generate datasets, useful for testing. "
      ]
    },
    {
      "cell_type": "code",
      "source": [
        "X, y = mnist.data, mnist.target\n",
        "X"
      ],
      "metadata": {
        "colab": {
          "base_uri": "https://localhost:8080/"
        },
        "id": "9V8uDj-FNSBL",
        "outputId": "e3512e9b-e6a1-4ceb-bf3b-1682e0ca32d3"
      },
      "execution_count": 2,
      "outputs": [
        {
          "output_type": "execute_result",
          "data": {
            "text/plain": [
              "array([[0., 0., 0., ..., 0., 0., 0.],\n",
              "       [0., 0., 0., ..., 0., 0., 0.],\n",
              "       [0., 0., 0., ..., 0., 0., 0.],\n",
              "       ...,\n",
              "       [0., 0., 0., ..., 0., 0., 0.],\n",
              "       [0., 0., 0., ..., 0., 0., 0.],\n",
              "       [0., 0., 0., ..., 0., 0., 0.]])"
            ]
          },
          "metadata": {},
          "execution_count": 2
        }
      ]
    },
    {
      "cell_type": "code",
      "source": [
        "X.shape"
      ],
      "metadata": {
        "colab": {
          "base_uri": "https://localhost:8080/"
        },
        "id": "cVz0jhwlOcZs",
        "outputId": "6c395d37-b4fa-4851-8adc-80ea98e86931"
      },
      "execution_count": 3,
      "outputs": [
        {
          "output_type": "execute_result",
          "data": {
            "text/plain": [
              "(70000, 784)"
            ]
          },
          "metadata": {},
          "execution_count": 3
        }
      ]
    },
    {
      "cell_type": "code",
      "source": [
        "# lets look at a single image from our dataset.\n",
        "\n",
        "import matplotlib.pyplot as plt\n",
        "\n",
        "def plot_digit(image_data):\n",
        "  image = image_data.reshape(28,28) # reshaping to a 28x28 array so we can use imshow to display it. \n",
        "  plt.imshow(image, cmap=\"binary\") # cmap gets us a greyscale color map where 0 is white and 255 is black\n",
        "  plt.axis(\"off\")\n",
        "\n",
        "some_digit = X[0] # change this number here from 0 to 69999 to see a specific instance feature\n",
        "plot_digit(some_digit)\n",
        "plt.show()"
      ],
      "metadata": {
        "colab": {
          "base_uri": "https://localhost:8080/",
          "height": 248
        },
        "id": "wZsw_GmERfgg",
        "outputId": "243af29c-b670-4902-f187-2c13ab0cf986"
      },
      "execution_count": 8,
      "outputs": [
        {
          "output_type": "display_data",
          "data": {
            "text/plain": [
              "<Figure size 432x288 with 1 Axes>"
            ],
            "image/png": "[encoded data removed]"
          },
          "metadata": {
            "needs_background": "light"
          }
        }
      ]
    },
    {
      "cell_type": "code",
      "source": [
        "y[0] # our X value for each feature instance is the image itself, or rather its vector.\n",
        "# where our y value is the label within the dataset, here we can see that this first digit is a 5"
      ],
      "metadata": {
        "colab": {
          "base_uri": "https://localhost:8080/",
          "height": 35
        },
        "id": "dcLqEZLsS8an",
        "outputId": "17fd5f27-73c2-4d40-f008-c30f7211c2ac"
      },
      "execution_count": 9,
      "outputs": [
        {
          "output_type": "execute_result",
          "data": {
            "text/plain": [
              "'5'"
            ],
            "application/vnd.google.colaboratory.intrinsic+json": {
              "type": "string"
            }
          },
          "metadata": {},
          "execution_count": 9
        }
      ]
    },
    {
      "cell_type": "markdown",
      "source": [
        "# Test set\n",
        "\n",
        "This dataset is already split for us, with a test set comprised of the last 10K images."
      ],
      "metadata": {
        "id": "aN5OxvFrTTA6"
      }
    },
    {
      "cell_type": "code",
      "source": [
        "X_train, X_test, y_train, y_test = X[:60000], X[60000:], y[:60000], y[60000:]"
      ],
      "metadata": {
        "id": "jUN2bVKyTKM_"
      },
      "execution_count": 10,
      "outputs": []
    },
    {
      "cell_type": "markdown",
      "source": [
        "# Identifying a single digit, Binary Classifier.\n"
      ],
      "metadata": {
        "id": "6DZ1vGdHT1RV"
      }
    },
    {
      "cell_type": "code",
      "source": [
        "y_train_5= (y_train == '5') # return True for all 5s False for any other digit. \n",
        "y_test_5 = (y_test == '5')"
      ],
      "metadata": {
        "id": "Ry7eYA9fT8HI"
      },
      "execution_count": 13,
      "outputs": []
    },
    {
      "cell_type": "markdown",
      "source": [
        "## Picking a classifier and training it.\n",
        "\n",
        "Starting with a stochastic gradient decent with the built in sklearn class.\n",
        "These classifiers are greate with very large datasets. "
      ],
      "metadata": {
        "id": "d3Zw6CmeUMvg"
      }
    },
    {
      "cell_type": "code",
      "source": [
        "from sklearn.linear_model import SGDClassifier \n",
        "\n",
        "sgd_clf = SGDClassifier(random_state=42) # assigning the classifier with our random seed.\n",
        "sgd_clf.fit(X_train,y_train_5) # fitting"
      ],
      "metadata": {
        "colab": {
          "base_uri": "https://localhost:8080/"
        },
        "id": "ESam98meUEVr",
        "outputId": "fc621e57-1214-479f-e38f-4b4388c9d8b3"
      },
      "execution_count": 14,
      "outputs": [
        {
          "output_type": "execute_result",
          "data": {
            "text/plain": [
              "SGDClassifier(random_state=42)"
            ]
          },
          "metadata": {},
          "execution_count": 14
        }
      ]
    },
    {
      "cell_type": "code",
      "source": [
        "# now we can use the model to detect the number 5\n",
        "sgd_clf.predict([some_digit])"
      ],
      "metadata": {
        "colab": {
          "base_uri": "https://localhost:8080/"
        },
        "id": "M7wIIBPXWqEg",
        "outputId": "9831cb19-bfb4-4128-d603-e006eebf2d88"
      },
      "execution_count": 16,
      "outputs": [
        {
          "output_type": "execute_result",
          "data": {
            "text/plain": [
              "array([ True])"
            ]
          },
          "metadata": {},
          "execution_count": 16
        }
      ]
    },
    {
      "cell_type": "markdown",
      "source": [
        "# Evaluating the classifyier.\n",
        "\n",
        "This is generally significantly harder than evaluating a regressor model. \n",
        "lets try cross-validation"
      ],
      "metadata": {
        "id": "xRqTdgE3XRPu"
      }
    },
    {
      "cell_type": "code",
      "source": [
        "from sklearn.model_selection import cross_val_score\n",
        "\n",
        "cross_val_score(sgd_clf, X_train, y_train_5, cv=3, scoring=\"accuracy\") "
      ],
      "metadata": {
        "colab": {
          "base_uri": "https://localhost:8080/"
        },
        "id": "bdW3y5kkXJ6N",
        "outputId": "2f6a63ba-8e68-4da8-f23b-d1dd53b4f2b1"
      },
      "execution_count": 17,
      "outputs": [
        {
          "output_type": "execute_result",
          "data": {
            "text/plain": [
              "array([0.95035, 0.96035, 0.9604 ])"
            ]
          },
          "metadata": {},
          "execution_count": 17
        }
      ]
    },
    {
      "cell_type": "code",
      "source": [
        "# how about the dummyclassifier?\n",
        "\n",
        "from sklearn.dummy import DummyClassifier\n",
        "\n",
        "dummy_clf = DummyClassifier()\n",
        "dummy_clf.fit(X_train, y_train_5)\n",
        "print(any(dummy_clf.predict(X_train)))"
      ],
      "metadata": {
        "colab": {
          "base_uri": "https://localhost:8080/"
        },
        "id": "kpsBSXm7Zc6z",
        "outputId": "7a465f94-ad47-4dba-9c12-700ed6a695d1"
      },
      "execution_count": 18,
      "outputs": [
        {
          "output_type": "stream",
          "name": "stdout",
          "text": [
            "False\n"
          ]
        }
      ]
    },
    {
      "cell_type": "code",
      "source": [
        "cross_val_score(dummy_clf, X_train, y_train_5, cv=3, scoring=\"accuracy\")"
      ],
      "metadata": {
        "colab": {
          "base_uri": "https://localhost:8080/"
        },
        "id": "Ch72_SZhZssV",
        "outputId": "e1c5eac3-7519-44eb-fb23-c4e8ceba5171"
      },
      "execution_count": 19,
      "outputs": [
        {
          "output_type": "execute_result",
          "data": {
            "text/plain": [
              "array([0.90965, 0.90965, 0.90965])"
            ]
          },
          "metadata": {},
          "execution_count": 19
        }
      ]
    },
    {
      "cell_type": "markdown",
      "source": [
        "Great! we are getting over 90% accuracy. But its only because only 10% of the images are actually 5s, so our model will always guess that an image is not a 5, and its right about 90% of the time. This wont do, but perfectly demonstrates that when dealing with classifiers accuracy is not the preferred performance measure. \n",
        "\n",
        "A much better way to evaluate the performance of a classifier is with a confusion matrix."
      ],
      "metadata": {
        "id": "bddE_yJ5Z2gJ"
      }
    },
    {
      "cell_type": "markdown",
      "source": [
        "# Confusion Matrices"
      ],
      "metadata": {
        "id": "CBK0id6WamE6"
      }
    },
    {
      "cell_type": "code",
      "source": [
        "from sklearn.model_selection import cross_val_predict\n",
        "\n",
        "y_train_pred = cross_val_predict(sgd_clf, X_train, y_train_5, cv=3) # cv here specifies the number of folds we want to perform."
      ],
      "metadata": {
        "id": "OX3S9_Y9aIyw"
      },
      "execution_count": 20,
      "outputs": []
    },
    {
      "cell_type": "code",
      "source": [
        "from sklearn.metrics import confusion_matrix\n",
        "\n",
        "cm = confusion_matrix(y_train_5, y_train_pred)\n",
        "cm"
      ],
      "metadata": {
        "colab": {
          "base_uri": "https://localhost:8080/"
        },
        "id": "nOpD1MCJbbr_",
        "outputId": "77f4fa98-c1c6-4f8a-eb0b-6041a7e7b81f"
      },
      "execution_count": 21,
      "outputs": [
        {
          "output_type": "execute_result",
          "data": {
            "text/plain": [
              "array([[53892,   687],\n",
              "       [ 1891,  3530]])"
            ]
          },
          "metadata": {},
          "execution_count": 21
        }
      ]
    },
    {
      "cell_type": "markdown",
      "source": [
        "# understanding the matrix\n",
        "\n",
        "each row represents an actual class, while each column is a predicted class. in this case 53,892 images were correctly classified as \"not 5\", while the remaining 687 were wrongly classified as 5s (false-positives).\n",
        "\n",
        "Lets look at some metrics for our classifier, using built in sklearn functions. "
      ],
      "metadata": {
        "id": "c_8P46ZPbvEf"
      }
    },
    {
      "cell_type": "code",
      "source": [
        "from sklearn.metrics import precision_score, recall_score\n",
        "\n",
        "precision_score(y_train_5, y_train_pred)"
      ],
      "metadata": {
        "colab": {
          "base_uri": "https://localhost:8080/"
        },
        "id": "kxOXQi0jch6o",
        "outputId": "2947663c-8364-4066-ef51-b3fee2281a71"
      },
      "execution_count": 22,
      "outputs": [
        {
          "output_type": "execute_result",
          "data": {
            "text/plain": [
              "0.8370879772350012"
            ]
          },
          "metadata": {},
          "execution_count": 22
        }
      ]
    },
    {
      "cell_type": "code",
      "source": [
        "recall_score(y_train_5, y_train_pred)"
      ],
      "metadata": {
        "colab": {
          "base_uri": "https://localhost:8080/"
        },
        "id": "HqU77BwBctl0",
        "outputId": "869850e6-0d12-4dd9-f120-914fd9e27f8a"
      },
      "execution_count": 23,
      "outputs": [
        {
          "output_type": "execute_result",
          "data": {
            "text/plain": [
              "0.6511713705958311"
            ]
          },
          "metadata": {},
          "execution_count": 23
        }
      ]
    },
    {
      "cell_type": "markdown",
      "source": [
        "this is a much clearer view of the performance of the classifier right now. \n",
        "83.7% of the time it correctly classifies a 5. but its only detecting 65.1% of all 5s in the set. \n",
        "\n",
        "Lets generallize these scores together into a F1 score, using a harmonic mean (which give more weight to low scores)"
      ],
      "metadata": {
        "id": "6v1NQ2ArczNh"
      }
    },
    {
      "cell_type": "code",
      "source": [
        "from sklearn.metrics import f1_score\n",
        "\n",
        "f1_score(y_train_5, y_train_pred)"
      ],
      "metadata": {
        "colab": {
          "base_uri": "https://localhost:8080/"
        },
        "id": "Bs0pTOD5dPin",
        "outputId": "f44c4982-2752-4903-da0c-5b381ede2a3a"
      },
      "execution_count": 24,
      "outputs": [
        {
          "output_type": "execute_result",
          "data": {
            "text/plain": [
              "0.7325171197343846"
            ]
          },
          "metadata": {},
          "execution_count": 24
        }
      ]
    },
    {
      "cell_type": "markdown",
      "source": [
        "# Precision/recall trade-off\n",
        "\n",
        "You often want to tune your classification model for either or, But you cannot have both. "
      ],
      "metadata": {
        "id": "OxMUT0MOdhF_"
      }
    },
    {
      "cell_type": "code",
      "source": [
        "y_scores = sgd_clf.decision_function([some_digit])\n",
        "y_scores"
      ],
      "metadata": {
        "colab": {
          "base_uri": "https://localhost:8080/"
        },
        "id": "ZNr87E4PeJbA",
        "outputId": "01e8a7aa-7fcb-479a-b414-8229591f0ec5"
      },
      "execution_count": 25,
      "outputs": [
        {
          "output_type": "execute_result",
          "data": {
            "text/plain": [
              "array([2164.22030239])"
            ]
          },
          "metadata": {},
          "execution_count": 25
        }
      ]
    },
    {
      "cell_type": "code",
      "source": [
        "threshold = 3000 # here we can set the desicion threshold\n",
        "y_some_digit_pred = (y_scores > threshold)\n",
        "y_some_digit_pred"
      ],
      "metadata": {
        "colab": {
          "base_uri": "https://localhost:8080/"
        },
        "id": "L_oEqz9ueSGs",
        "outputId": "2cae27fd-9d5f-409a-b777-cbe05d22b09d"
      },
      "execution_count": 29,
      "outputs": [
        {
          "output_type": "execute_result",
          "data": {
            "text/plain": [
              "array([False])"
            ]
          },
          "metadata": {},
          "execution_count": 29
        }
      ]
    },
    {
      "cell_type": "markdown",
      "source": [
        "How do we decide what to set out threshold too?"
      ],
      "metadata": {
        "id": "7Hk3LSSJfDRR"
      }
    },
    {
      "cell_type": "code",
      "source": [
        "y_scores = cross_val_predict(sgd_clf, X_train, y_train_5, cv=3, method=\"decision_function\")"
      ],
      "metadata": {
        "id": "MOVWF4haeqR5"
      },
      "execution_count": 30,
      "outputs": []
    },
    {
      "cell_type": "code",
      "source": [
        "from sklearn.metrics import precision_recall_curve\n",
        "\n",
        "precisions, recalls, thresholds = precision_recall_curve(y_train_5, y_scores)"
      ],
      "metadata": {
        "id": "3m0PYeRcfSaE"
      },
      "execution_count": 31,
      "outputs": []
    },
    {
      "cell_type": "markdown",
      "source": [
        "Now lets ploit our our precision and recall with matplotlib."
      ],
      "metadata": {
        "id": "vaZZ5pQgffv-"
      }
    },
    {
      "cell_type": "code",
      "source": [
        "plt.plot(thresholds, precisions[:-1], \"b--\", label=\"Precision\", linewidth=2)\n",
        "plt.plot(thresholds, recalls[:-1], \"g-\", label=\"Recall\", linewidth=2)\n",
        "plt.vlines(threshold, 0, 1.0, \"k\", \"dotted\", label=\"threshold\")\n",
        "idx = (thresholds >= threshold).argmax()  # first index ≥ threshold\n",
        "plt.plot(thresholds[idx], precisions[idx], \"bo\")\n",
        "plt.plot(thresholds[idx], recalls[idx], \"go\")\n",
        "plt.axis([-50000, 50000, 0, 1])\n",
        "plt.grid()\n",
        "plt.xlabel(\"Threshold\")\n",
        "plt.legend(loc=\"center right\")\n",
        "plt.show()"
      ],
      "metadata": {
        "colab": {
          "base_uri": "https://localhost:8080/",
          "height": 283
        },
        "id": "bFmD843Kfngk",
        "outputId": "7c9ff938-57b0-419c-e722-f217de866bb2"
      },
      "execution_count": 34,
      "outputs": [
        {
          "output_type": "display_data",
          "data": {
            "text/plain": [
              "<Figure size 432x288 with 1 Axes>"
            ],
            "image/png": "[encoded data removed]"
          },
          "metadata": {
            "needs_background": "light"
          }
        }
      ]
    },
    {
      "cell_type": "markdown",
      "source": [
        "At this threshold we can see precision is near 90% and recall is around 50%.\n",
        "\n",
        "Below we plot precision directly against recall."
      ],
      "metadata": {
        "id": "fsKfHV2Pf9yh"
      }
    },
    {
      "cell_type": "code",
      "source": [
        "import matplotlib.patches as patches  # extra code – for the curved arrow\n",
        "\n",
        "plt.figure(figsize=(6, 5))  # extra code – not needed, just formatting\n",
        "\n",
        "plt.plot(recalls, precisions, linewidth=2, label=\"Precision/Recall curve\")\n",
        "\n",
        "# extra code – just beautifies and saves Figure 3–6\n",
        "plt.plot([recalls[idx], recalls[idx]], [0., precisions[idx]], \"k:\")\n",
        "plt.plot([0.0, recalls[idx]], [precisions[idx], precisions[idx]], \"k:\")\n",
        "plt.plot([recalls[idx]], [precisions[idx]], \"ko\",\n",
        "         label=\"Point at threshold 3,000\")\n",
        "plt.gca().add_patch(patches.FancyArrowPatch(\n",
        "    (0.79, 0.60), (0.61, 0.78),\n",
        "    connectionstyle=\"arc3,rad=.2\",\n",
        "    arrowstyle=\"Simple, tail_width=1.5, head_width=8, head_length=10\",\n",
        "    color=\"#444444\"))\n",
        "plt.text(0.56, 0.62, \"Higher\\nthreshold\", color=\"#333333\")\n",
        "plt.xlabel(\"Recall\")\n",
        "plt.ylabel(\"Precision\")\n",
        "plt.axis([0, 1, 0, 1])\n",
        "plt.grid()\n",
        "plt.legend(loc=\"lower left\")\n",
        "\n",
        "plt.show()"
      ],
      "metadata": {
        "colab": {
          "base_uri": "https://localhost:8080/",
          "height": 338
        },
        "id": "zwaGwMbLgJeF",
        "outputId": "409683a4-4e0b-4cfd-f6b3-cef469d6f5f7"
      },
      "execution_count": 35,
      "outputs": [
        {
          "output_type": "display_data",
          "data": {
            "text/plain": [
              "<Figure size 432x360 with 1 Axes>"
            ],
            "image/png": "[encoded data removed]"
          },
          "metadata": {
            "needs_background": "light"
          }
        }
      ]
    },
    {
      "cell_type": "markdown",
      "source": [
        "lets suppose we decided to bias for precision, and we want 90%. Lets use numpy argmax() function to search for the lowest threshold that gives us at least 90%"
      ],
      "metadata": {
        "id": "ylyef8-1hDZ6"
      }
    },
    {
      "cell_type": "code",
      "source": [
        "idx_for_90_precision = (precisions >= 0.90).argmax()\n",
        "threshold_for_90_precision = thresholds[idx_for_90_precision]\n",
        "threshold_for_90_precision"
      ],
      "metadata": {
        "colab": {
          "base_uri": "https://localhost:8080/"
        },
        "id": "p2KdhH7Fg0tI",
        "outputId": "7ba4ac68-9427-4994-a48c-e10f405ccae9"
      },
      "execution_count": 36,
      "outputs": [
        {
          "output_type": "execute_result",
          "data": {
            "text/plain": [
              "3370.0194991439557"
            ]
          },
          "metadata": {},
          "execution_count": 36
        }
      ]
    },
    {
      "cell_type": "markdown",
      "source": [
        "lets make a prediciton using this 90% threshold value."
      ],
      "metadata": {
        "id": "PlKffP42hb0V"
      }
    },
    {
      "cell_type": "code",
      "source": [
        "y_train_pred_90 = (y_scores >= threshold_for_90_precision)"
      ],
      "metadata": {
        "id": "MqRKsi39hVGv"
      },
      "execution_count": 37,
      "outputs": []
    },
    {
      "cell_type": "code",
      "source": [
        "precision_score(y_train_5, y_train_pred_90)"
      ],
      "metadata": {
        "colab": {
          "base_uri": "https://localhost:8080/"
        },
        "id": "gDqCS3SahglR",
        "outputId": "97d672f0-351e-4148-ace0-398d5c5e039a"
      },
      "execution_count": 38,
      "outputs": [
        {
          "output_type": "execute_result",
          "data": {
            "text/plain": [
              "0.9000345901072293"
            ]
          },
          "metadata": {},
          "execution_count": 38
        }
      ]
    },
    {
      "cell_type": "code",
      "source": [
        "recall_at_90_precision = recall_score(y_train_5, y_train_pred_90)\n",
        "recall_at_90_precision"
      ],
      "metadata": {
        "colab": {
          "base_uri": "https://localhost:8080/"
        },
        "id": "HFX27sbFhmGZ",
        "outputId": "5ad55af7-7ca2-4a57-860a-48ed5aa760b6"
      },
      "execution_count": 40,
      "outputs": [
        {
          "output_type": "execute_result",
          "data": {
            "text/plain": [
              "0.4799852425751706"
            ]
          },
          "metadata": {},
          "execution_count": 40
        }
      ]
    },
    {
      "cell_type": "markdown",
      "source": [
        "# The ROC curve.\n",
        "\n",
        "another common tool with binary classifiers, but instead of plotting precision versus recall, the ROC curve plots the true positive rate(another name for recall) against the false positive rate(FPR). The FPR also called the fall-out, is the ratio of negative instances that are incorrectly classified as positive."
      ],
      "metadata": {
        "id": "nY7ZM4mNiGCX"
      }
    },
    {
      "cell_type": "code",
      "source": [
        "from sklearn.metrics import roc_curve\n",
        "\n",
        "fpr, tpr, thresholds = roc_curve(y_train_5, y_scores)"
      ],
      "metadata": {
        "id": "--3e6Oo9ij3b"
      },
      "execution_count": 41,
      "outputs": []
    },
    {
      "cell_type": "code",
      "source": [
        "idx_for_threshold_at_90 = (thresholds <= threshold_for_90_precision).argmax()\n",
        "tpr_90, fpr_90 = tpr[idx_for_threshold_at_90], fpr[idx_for_threshold_at_90]\n",
        "\n",
        "plt.figure(figsize=(6, 5))  # extra code – not needed, just formatting\n",
        "plt.plot(fpr, tpr, linewidth=2, label=\"ROC curve\")\n",
        "plt.plot([0, 1], [0, 1], 'k:', label=\"Random classifier's ROC curve\")\n",
        "plt.plot([fpr_90], [tpr_90], \"ko\", label=\"Threshold for 90% precision\")\n",
        "\n",
        "# extra code – just beautifies and saves Figure 3–7\n",
        "plt.gca().add_patch(patches.FancyArrowPatch(\n",
        "    (0.20, 0.89), (0.07, 0.70),\n",
        "    connectionstyle=\"arc3,rad=.4\",\n",
        "    arrowstyle=\"Simple, tail_width=1.5, head_width=8, head_length=10\",\n",
        "    color=\"#444444\"))\n",
        "plt.text(0.12, 0.71, \"Higher\\nthreshold\", color=\"#333333\")\n",
        "plt.xlabel('False Positive Rate (Fall-Out)')\n",
        "plt.ylabel('True Positive Rate (Recall)')\n",
        "plt.grid()\n",
        "plt.axis([0, 1, 0, 1])\n",
        "plt.legend(loc=\"lower right\", fontsize=13)\n",
        "\n",
        "plt.show()"
      ],
      "metadata": {
        "colab": {
          "base_uri": "https://localhost:8080/",
          "height": 338
        },
        "id": "xO0maF7ditpm",
        "outputId": "e6c85fd6-1753-4d84-e178-5bfffe601f41"
      },
      "execution_count": 42,
      "outputs": [
        {
          "output_type": "display_data",
          "data": {
            "text/plain": [
              "<Figure size 432x360 with 1 Axes>"
            ],
            "image/png": "[encoded data removed]"
          },
          "metadata": {
            "needs_background": "light"
          }
        }
      ]
    },
    {
      "cell_type": "code",
      "source": [
        "from sklearn.metrics import roc_auc_score # calculates the amount of space under our ROC curve, a perfect classifier would = 1\n",
        "roc_auc_score(y_train_5, y_scores)"
      ],
      "metadata": {
        "colab": {
          "base_uri": "https://localhost:8080/"
        },
        "id": "puuvbSXwj6vt",
        "outputId": "f6a766b4-5b11-4789-d10f-71bd65ae84e4"
      },
      "execution_count": 43,
      "outputs": [
        {
          "output_type": "execute_result",
          "data": {
            "text/plain": [
              "0.9604938554008616"
            ]
          },
          "metadata": {},
          "execution_count": 43
        }
      ]
    },
    {
      "cell_type": "markdown",
      "source": [
        "##Tip\n",
        "Since the ROC curve is so similar to the precision/recall (PR) curve, you may wonder how to decide which one to use. As a rule of thumb, you should prefer the PR curve whenever the positive class is rare or when you care more about the false positives than the false negatives. Otherwise, use the ROC curve. For example, looking at the previous ROC curve (and the ROC AUC score), you may think that the classifier is really good. But this is mostly because there are few positives (5s) compared to the negatives (non-5s). In contrast, the PR curve makes it clear that the classifier has room for improvement: the curve could really be closer to the top-right corner\n"
      ],
      "metadata": {
        "id": "OKLZ1mmIkQb4"
      }
    },
    {
      "cell_type": "markdown",
      "source": [
        "# Random Forest classifier"
      ],
      "metadata": {
        "id": "cyJFeEapkXiN"
      }
    },
    {
      "cell_type": "code",
      "source": [
        "from sklearn.ensemble import RandomForestClassifier\n",
        "\n",
        "forest_clf = RandomForestClassifier(random_state=42)"
      ],
      "metadata": {
        "id": "sPeeihXvkYco"
      },
      "execution_count": 44,
      "outputs": []
    },
    {
      "cell_type": "markdown",
      "source": [
        "our RFC doesnt have a decision_function() method, like the DummyClassifier. but we can use the predict_proba() method that returns class probablities for each instance. then we can use the probability of the positive class as a score."
      ],
      "metadata": {
        "id": "xqpD8L0jktpv"
      }
    },
    {
      "cell_type": "code",
      "source": [
        "y_probas_forest = cross_val_predict(forest_clf, X_train, y_train_5, cv=3, method=\"predict_proba\")"
      ],
      "metadata": {
        "id": "47zdmZrylFAD"
      },
      "execution_count": 45,
      "outputs": []
    },
    {
      "cell_type": "code",
      "source": [
        "y_probas_forest[:2]"
      ],
      "metadata": {
        "colab": {
          "base_uri": "https://localhost:8080/"
        },
        "id": "Gl70CANrlRsV",
        "outputId": "dccd5646-503b-432b-934a-35e2e1d70229"
      },
      "execution_count": 46,
      "outputs": [
        {
          "output_type": "execute_result",
          "data": {
            "text/plain": [
              "array([[0.11, 0.89],\n",
              "       [0.99, 0.01]])"
            ]
          },
          "metadata": {},
          "execution_count": 46
        }
      ]
    },
    {
      "cell_type": "markdown",
      "source": [
        "The second column of this array contains the estimated probablilities for the positive class."
      ],
      "metadata": {
        "id": "jIN_BHLCly9U"
      }
    },
    {
      "cell_type": "code",
      "source": [
        "y_scores_forest = y_probas_forest[:, 1]\n",
        "precisions_forest, recalls_forest, thresholds_forest = precision_recall_curve(\n",
        "    y_train_5, y_scores_forest)\n"
      ],
      "metadata": {
        "id": "pJqQ0-amlsyT"
      },
      "execution_count": 47,
      "outputs": []
    },
    {
      "cell_type": "code",
      "source": [
        "plt.figure(figsize=(6, 5))  # extra code – not needed, just formatting\n",
        "\n",
        "plt.plot(recalls_forest, precisions_forest, \"b-\", linewidth=2,\n",
        "         label=\"Random Forest\")\n",
        "plt.plot(recalls, precisions, \"--\", linewidth=2, label=\"SGD\")\n",
        "\n",
        "# extra code – just beautifies and saves Figure 3–8\n",
        "plt.xlabel(\"Recall\")\n",
        "plt.ylabel(\"Precision\")\n",
        "plt.axis([0, 1, 0, 1])\n",
        "plt.grid()\n",
        "plt.legend(loc=\"lower left\")\n",
        "\n",
        "plt.show()"
      ],
      "metadata": {
        "colab": {
          "base_uri": "https://localhost:8080/",
          "height": 338
        },
        "id": "wTA6xT__l5Nf",
        "outputId": "db816910-2bb3-4d74-ce5b-92571f00d009"
      },
      "execution_count": 48,
      "outputs": [
        {
          "output_type": "display_data",
          "data": {
            "text/plain": [
              "<Figure size 432x360 with 1 Axes>"
            ],
            "image/png": "[encoded data removed]"
          },
          "metadata": {
            "needs_background": "light"
          }
        }
      ]
    },
    {
      "cell_type": "markdown",
      "source": [
        "We can clearly see that in this case the random forest classifier is superiour to the SGD classifier, since the precision/recall curve is much closer to the top right corner and it visibly has a greater AUC"
      ],
      "metadata": {
        "id": "0JZMgAhimFsG"
      }
    },
    {
      "cell_type": "code",
      "source": [
        "y_train_pred_forest = y_probas_forest[:,1] >= 0.5\n",
        "f1_score(y_train_5, y_train_pred_forest)"
      ],
      "metadata": {
        "colab": {
          "base_uri": "https://localhost:8080/"
        },
        "id": "X_hDmc9TmU7r",
        "outputId": "938659c8-2b86-4517-a041-a0f36b6d84b3"
      },
      "execution_count": 50,
      "outputs": [
        {
          "output_type": "execute_result",
          "data": {
            "text/plain": [
              "0.9274509803921569"
            ]
          },
          "metadata": {},
          "execution_count": 50
        }
      ]
    },
    {
      "cell_type": "code",
      "source": [
        "roc_auc_score(y_train_5, y_scores_forest)"
      ],
      "metadata": {
        "colab": {
          "base_uri": "https://localhost:8080/"
        },
        "id": "BK6xs_9Em3EU",
        "outputId": "4ec9a652-74fe-481d-c28c-e614653e8b6c"
      },
      "execution_count": 51,
      "outputs": [
        {
          "output_type": "execute_result",
          "data": {
            "text/plain": [
              "0.9983436731328145"
            ]
          },
          "metadata": {},
          "execution_count": 51
        }
      ]
    },
    {
      "cell_type": "markdown",
      "source": [
        "wonderful we've ended up with 99.1% precision to 86.6% recall."
      ],
      "metadata": {
        "id": "yXnBmpJ2m_ha"
      }
    }
  ]
}